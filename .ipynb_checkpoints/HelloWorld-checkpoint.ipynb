{
 "cells": [
  {
   "cell_type": "code",
   "execution_count": 2,
   "id": "55bf21e7-8585-4e0c-8a7d-488c9ebbe230",
   "metadata": {},
   "outputs": [
    {
     "name": "stdout",
     "output_type": "stream",
     "text": [
      "Hello World in Codespace\n"
     ]
    }
   ],
   "source": [
    "print('Hello World in Codespace')"
   ]
  },
  {
   "cell_type": "code",
   "execution_count": null,
   "id": "4b755bd3-9f3d-4d22-8722-e24e75756d79",
   "metadata": {},
   "outputs": [],
   "source": []
  }
 ],
 "metadata": {
  "kernelspec": {
   "display_name": "Python 3 (ipykernel)",
   "language": "python",
   "name": "python3"
  },
  "language_info": {
   "codemirror_mode": {
    "name": "ipython",
    "version": 3
   },
   "file_extension": ".py",
   "mimetype": "text/x-python",
   "name": "python",
   "nbconvert_exporter": "python",
   "pygments_lexer": "ipython3",
   "version": "3.10.13"
  }
 },
 "nbformat": 4,
 "nbformat_minor": 5
}
